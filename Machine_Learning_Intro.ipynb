{
  "nbformat": 4,
  "nbformat_minor": 0,
  "metadata": {
    "colab": {
      "provenance": []
    },
    "kernelspec": {
      "name": "python3",
      "display_name": "Python 3"
    },
    "language_info": {
      "name": "python"
    }
  },
  "cells": [
    {
      "cell_type": "markdown",
      "source": [
        "**1: Explain the differences between AI, ML, Deep Learning (DL), and Data Science (DS).**\n",
        "Answer:\n",
        "\n",
        "Artificial Intelligence (AI): The broad field of making machines act intelligently, performing tasks like reasoning, problem-solving, and understanding language.\n",
        "\n",
        "Machine Learning (ML): A subset of AI where systems learn from data to improve predictions or decisions. Example: predicting stock prices.\n",
        "\n",
        "Deep Learning (DL): A branch of ML using multi-layered neural networks that automatically learn features, effective in tasks like image and speech recognition.\n",
        "\n",
        "Data Science (DS): An applied discipline combining statistics, ML, and domain knowledge to clean, analyze, and interpret data for insights."
      ],
      "metadata": {
        "id": "CDofHL8YDzkO"
      }
    },
    {
      "cell_type": "markdown",
      "source": [
        "**2: What are the types of machine learning? Describe each with one real-world example.**\n",
        "\n",
        "Answer:\n",
        "\n",
        "Supervised Learning: Uses labeled data to train models. Example: predicting house prices.\n",
        "\n",
        "Unsupervised Learning: Finds patterns in unlabeled data. Example: customer segmentation with clustering.\n",
        "\n",
        "Semi-Supervised Learning: Mix of labeled and unlabeled data. Example: sentiment classification with few labeled reviews.\n",
        "\n",
        "Reinforcement Learning: Learns through rewards and penalties. Example: game-playing AI like AlphaGo.\n",
        "\n",
        "Online Learning: Model updates as new data arrives. Example: ad click prediction."
      ],
      "metadata": {
        "id": "wpTsWEQEDzh6"
      }
    },
    {
      "cell_type": "markdown",
      "source": [
        "**3: Define overfitting, underfitting, and the bias-variance tradeoff in machine learning.**\n",
        "\n",
        "Answer:\n",
        "\n",
        "Overfitting: When a model learns noise from training data and performs poorly on test data. Example: a very deep decision tree.\n",
        "\n",
        "Underfitting: When a model is too simple to capture patterns, leading to poor accuracy on both train and test sets.\n",
        "\n",
        "Bias-Variance Tradeoff:\n",
        "\n",
        "High bias → underfitting (simplistic model).\n",
        "\n",
        "High variance → overfitting (too complex).\n",
        "\n",
        "The goal is to balance both for better generalization."
      ],
      "metadata": {
        "id": "KGsdcnjTDzfp"
      }
    },
    {
      "cell_type": "markdown",
      "source": [
        "**4: What are outliers in a dataset, and list three common techniques for handling them.**\n",
        "\n",
        "Answer:\n",
        "\n",
        "Outliers: Data points that differ significantly from most of the dataset, caused by errors or rare events.\n",
        "\n",
        "Techniques to handle outliers:\n",
        "\n",
        "Remove outliers if they are errors.\n",
        "\n",
        "Cap extreme values using percentiles (Winsorization).\n",
        "\n",
        "Transform values (e.g., log transformation) to reduce their effect."
      ],
      "metadata": {
        "id": "a6-ecoMYDzdw"
      }
    },
    {
      "cell_type": "markdown",
      "source": [
        "**5: Explain the process of handling missing values and mention one imputation technique for numerical and one for categorical data.**\n",
        "\n",
        "Answer:\n",
        "\n",
        "Process: Identify missing data, analyze patterns, and decide whether to drop or impute.\n",
        "\n",
        "Numerical imputation: Use mean or median (median preferred when outliers exist).\n",
        "\n",
        "Categorical imputation: Use mode (most frequent category) or introduce a “Missing” category."
      ],
      "metadata": {
        "id": "C418tNicDzcB"
      }
    },
    {
      "cell_type": "markdown",
      "source": [
        "**6: Write a Python program that creates a synthetic imbalanced dataset with make_classification() from sklearn.datasets and prints the class distribution.**\n",
        "\n"
      ],
      "metadata": {
        "id": "5TKQp49HDzZ4"
      }
    },
    {
      "cell_type": "code",
      "source": [
        "from sklearn.datasets import make_classification\n",
        "from collections import Counter\n",
        "\n",
        "X, y = make_classification(n_samples=1000, weights=[0.95], random_state=42)\n",
        "print(\"Class distribution:\", Counter(y))\n"
      ],
      "metadata": {
        "colab": {
          "base_uri": "https://localhost:8080/"
        },
        "id": "slCx07saEr3i",
        "outputId": "45d31b10-c17b-466b-ad3a-7399421b5958"
      },
      "execution_count": 1,
      "outputs": [
        {
          "output_type": "stream",
          "name": "stdout",
          "text": [
            "Class distribution: Counter({np.int64(0): 947, np.int64(1): 53})\n"
          ]
        }
      ]
    },
    {
      "cell_type": "markdown",
      "source": [
        "**7: Implement one-hot encoding using pandas for the following list of colors: ['Red', 'Green', 'Blue', 'Green', 'Red']. Print the resulting dataframe.**"
      ],
      "metadata": {
        "id": "yLhsO6h8DzXk"
      }
    },
    {
      "cell_type": "code",
      "source": [
        "import pandas as pd\n",
        "colors = ['Red', 'Green', 'Blue', 'Green', 'Red']\n",
        "df = pd.get_dummies(pd.DataFrame({'color': colors})['color'])\n",
        "print(df)\n"
      ],
      "metadata": {
        "colab": {
          "base_uri": "https://localhost:8080/"
        },
        "id": "fmiyYQ9aExv8",
        "outputId": "64d4acbd-c6ce-4a44-8cc0-0e7dc3202568"
      },
      "execution_count": 2,
      "outputs": [
        {
          "output_type": "stream",
          "name": "stdout",
          "text": [
            "    Blue  Green    Red\n",
            "0  False  False   True\n",
            "1  False   True  False\n",
            "2   True  False  False\n",
            "3  False   True  False\n",
            "4  False  False   True\n"
          ]
        }
      ]
    },
    {
      "cell_type": "markdown",
      "source": [
        "**8: Write a Python script to generate 1000 samples from a normal distribution, introduce 50 random missing values, fill missing values with the column mean, and plot a histogram before and after imputation.**\n"
      ],
      "metadata": {
        "id": "Rkd7A1ZeDzVV"
      }
    },
    {
      "cell_type": "code",
      "source": [
        "import numpy as np, pandas as pd, matplotlib.pyplot as plt\n",
        "data = np.random.normal(0,1,1000)\n",
        "df = pd.DataFrame({'x': data})\n",
        "df.loc[np.random.choice(df.index, 50, replace=False),'x'] = np.nan\n",
        "\n",
        "print(\"Missing before:\", df['x'].isna().sum())\n",
        "df['x'].fillna(df['x'].mean(), inplace=True)\n",
        "print(\"Missing after:\", df['x'].isna().sum())\n",
        "\n",
        "plt.hist(df['x'], bins=30)\n",
        "plt.title(\"After Imputation\")\n",
        "plt.show()\n"
      ],
      "metadata": {
        "colab": {
          "base_uri": "https://localhost:8080/",
          "height": 628
        },
        "id": "C9XMGiBHE53S",
        "outputId": "b5bd98b5-592a-4457-b1f8-23890d34e227"
      },
      "execution_count": 3,
      "outputs": [
        {
          "output_type": "stream",
          "name": "stdout",
          "text": [
            "Missing before: 50\n",
            "Missing after: 0\n"
          ]
        },
        {
          "output_type": "stream",
          "name": "stderr",
          "text": [
            "/tmp/ipython-input-1478654779.py:7: FutureWarning: A value is trying to be set on a copy of a DataFrame or Series through chained assignment using an inplace method.\n",
            "The behavior will change in pandas 3.0. This inplace method will never work because the intermediate object on which we are setting values always behaves as a copy.\n",
            "\n",
            "For example, when doing 'df[col].method(value, inplace=True)', try using 'df.method({col: value}, inplace=True)' or df[col] = df[col].method(value) instead, to perform the operation inplace on the original object.\n",
            "\n",
            "\n",
            "  df['x'].fillna(df['x'].mean(), inplace=True)\n"
          ]
        },
        {
          "output_type": "display_data",
          "data": {
            "text/plain": [
              "<Figure size 640x480 with 1 Axes>"
            ],
            "image/png": "[encoded data removed]"
          },
          "metadata": {}
        }
      ]
    },
    {
      "cell_type": "markdown",
      "source": [
        "**9: Implement Min-Max scaling on the list [2, 5, 10, 15, 20] using sklearn.preprocessing.MinMaxScaler. Print the scaled array.**"
      ],
      "metadata": {
        "id": "F71KQUH7DzQv"
      }
    },
    {
      "cell_type": "code",
      "source": [
        "from sklearn.preprocessing import MinMaxScaler\n",
        "import numpy as np\n",
        "arr = np.array([2,5,10,15,20]).reshape(-1,1)\n",
        "scaled = MinMaxScaler().fit_transform(arr)\n",
        "print(scaled.flatten())\n"
      ],
      "metadata": {
        "colab": {
          "base_uri": "https://localhost:8080/"
        },
        "id": "bAU98_wfFEyM",
        "outputId": "0b0b9657-6a52-4459-ff25-52f21da916c9"
      },
      "execution_count": 4,
      "outputs": [
        {
          "output_type": "stream",
          "name": "stdout",
          "text": [
            "[0.         0.16666667 0.44444444 0.72222222 1.        ]\n"
          ]
        }
      ]
    },
    {
      "cell_type": "markdown",
      "source": [
        "**10: You are working as a data scientist for a retail company. The dataset has missing ages, outliers in transaction amount, an imbalanced target, and categorical variables like payment method. Explain your step-by-step data preparation plan.**\n",
        "\n",
        "Answer:\n",
        "\n",
        "Missing Ages: Fill with median or use predictive imputation.\n",
        "\n",
        "Outliers in Transaction Amount: Detect using IQR/z-score; cap extreme values or log-transform to reduce skew.\n",
        "\n",
        "Imbalanced Target (fraud vs. non-fraud): Apply resampling (SMOTE/undersampling) or use class weights. Evaluate using precision, recall, and AUC instead of accuracy.\n",
        "\n",
        "Categorical Variables: Apply one-hot encoding for low-cardinality features like payment method; for high-cardinality, use frequency or target encoding.\n",
        "\n",
        "Final Steps: Scale numerical features if needed, split train/test with stratification, and validate using cross-validation."
      ],
      "metadata": {
        "id": "xUErXFGfDzIk"
      }
    },
    {
      "cell_type": "code",
      "execution_count": 4,
      "metadata": {
        "id": "aTMTIEWqBvcY"
      },
      "outputs": [],
      "source": []
    }
  ]
}